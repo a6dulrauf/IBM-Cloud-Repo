{
    "cells": [
        {
            "cell_type": "code",
            "execution_count": 2,
            "metadata": {},
            "outputs": [
                {
                    "name": "stdout",
                    "output_type": "stream",
                    "text": "Empty DataFrame\nColumns: []\nIndex: []\n"
                }
            ],
            "source": "import pandas as pd\n   \n# Calling DataFrame constructor\ndf = pd.DataFrame()\nprint(df)\n \n# list of strings\nlst = ['Geeks', 'For', 'Geeks', 'is', \n            'portal', 'for', 'Geeks']\n   \n# Calling DataFrame constructor on list\ndf = pd.DataFrame(lst)\n"
        },
        {
            "cell_type": "code",
            "execution_count": 3,
            "metadata": {},
            "outputs": [
                {
                    "data": {
                        "text/html": "<div>\n<style scoped>\n    .dataframe tbody tr th:only-of-type {\n        vertical-align: middle;\n    }\n\n    .dataframe tbody tr th {\n        vertical-align: top;\n    }\n\n    .dataframe thead th {\n        text-align: right;\n    }\n</style>\n<table border=\"1\" class=\"dataframe\">\n  <thead>\n    <tr style=\"text-align: right;\">\n      <th></th>\n      <th>0</th>\n    </tr>\n  </thead>\n  <tbody>\n    <tr>\n      <th>0</th>\n      <td>Geeks</td>\n    </tr>\n    <tr>\n      <th>1</th>\n      <td>For</td>\n    </tr>\n    <tr>\n      <th>2</th>\n      <td>Geeks</td>\n    </tr>\n    <tr>\n      <th>3</th>\n      <td>is</td>\n    </tr>\n    <tr>\n      <th>4</th>\n      <td>portal</td>\n    </tr>\n    <tr>\n      <th>5</th>\n      <td>for</td>\n    </tr>\n    <tr>\n      <th>6</th>\n      <td>Geeks</td>\n    </tr>\n  </tbody>\n</table>\n</div>",
                        "text/plain": "        0\n0   Geeks\n1     For\n2   Geeks\n3      is\n4  portal\n5     for\n6   Geeks"
                    },
                    "execution_count": 3,
                    "metadata": {},
                    "output_type": "execute_result"
                }
            ],
            "source": "df"
        },
        {
            "cell_type": "code",
            "execution_count": null,
            "metadata": {},
            "outputs": [],
            "source": ""
        }
    ],
    "metadata": {
        "kernelspec": {
            "display_name": "Python 3.10",
            "language": "python",
            "name": "python3"
        },
        "language_info": {
            "codemirror_mode": {
                "name": "ipython",
                "version": 3
            },
            "file_extension": ".py",
            "mimetype": "text/x-python",
            "name": "python",
            "nbconvert_exporter": "python",
            "pygments_lexer": "ipython3",
            "version": "3.10.6"
        }
    },
    "nbformat": 4,
    "nbformat_minor": 1
}